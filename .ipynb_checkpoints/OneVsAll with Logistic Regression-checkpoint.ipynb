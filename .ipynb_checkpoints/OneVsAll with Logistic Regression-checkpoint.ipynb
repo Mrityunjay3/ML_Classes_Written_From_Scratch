{
 "cells": [
  {
   "cell_type": "code",
   "execution_count": 1,
   "id": "d32cc8e1",
   "metadata": {},
   "outputs": [],
   "source": [
    "import numpy as np"
   ]
  },
  {
   "cell_type": "code",
   "execution_count": 2,
   "id": "0769d2d1",
   "metadata": {},
   "outputs": [],
   "source": [
    "class LogisticRegression():\n",
    "    \n",
    "    def __init__(self,learning_rate=0.1, max_iter=1000):\n",
    "        self.weights = None\n",
    "        self.bias = 0\n",
    "        self.lr = learning_rate\n",
    "        self.iter = max_iter\n",
    "    \n",
    "    def fit(self, X, y):\n",
    "        n_samples, n_features = X.shape\n",
    "        self.weights = np.random.randn(n_features)\n",
    "        \n",
    "        for _ in range(self.iter):\n",
    "            \n",
    "            linear = np.dot(X, self.weights) + self.bias\n",
    "            h = self.sigmoid(linear)\n",
    "\n",
    "            d_weights = X.T@(h-y)/n_samples\n",
    "            d_bias = np.sum(h-y)/n_samples\n",
    "\n",
    "            self.weights += -self.lr*d_weights\n",
    "            self.bias += -self.lr*d_bias\n",
    "        return self\n",
    "    \n",
    "    @staticmethod\n",
    "    def sigmoid(x):\n",
    "        \n",
    "        out = 1/(1+np.exp(-x))\n",
    "        return out\n",
    "    \n",
    "    def predict(self, X, threshold=0.5):\n",
    "        linear = np.dot(X, self.weights) + self.bias\n",
    "        h = self.sigmoid(linear)\n",
    "        out = np.where(h > threshold, 1, 0)\n",
    "        return out\n",
    "    \n",
    "    def decision_function(self, X):\n",
    "        linear = np.dot(X, self.weights) + self.bias\n",
    "        h = self.sigmoid(linear)\n",
    "        return h\n"
   ]
  },
  {
   "cell_type": "code",
   "execution_count": 3,
   "id": "a9abebe1",
   "metadata": {},
   "outputs": [],
   "source": [
    "class OneVsAll:\n",
    "    \n",
    "    def __init__(self, learning_rate=0.1, max_iter=1000):\n",
    "        self.lr = learning_rate\n",
    "        self.iter = max_iter\n",
    "        self.classes = None\n",
    "        self.classifiers = []\n",
    "    \n",
    "    def fit(self, X, y):\n",
    "        self.classes = np.unique(y)\n",
    "        \n",
    "        for clas in self.classes:\n",
    "            y_binary = np.where(y==clas, 1,0)\n",
    "            clf = LogisticRegression(learning_rate = self.lr, max_iter = self.iter)\n",
    "            clf.fit(X, y_binary)\n",
    "            self.classifiers.append(clf)\n",
    "    \n",
    "    def predict(self, X):\n",
    "        \n",
    "        n_samples, n_features = X.shape\n",
    "        \n",
    "        probs = np.array([clf.decision_function(X) for clf in self.classifiers]).T\n",
    "        \n",
    "        args = np.argmax(probs, axis=1)\n",
    "        \n",
    "        return self.classes[args]\n",
    "            "
   ]
  },
  {
   "cell_type": "code",
   "execution_count": null,
   "id": "0692048c",
   "metadata": {},
   "outputs": [],
   "source": []
  }
 ],
 "metadata": {
  "kernelspec": {
   "display_name": "Python 3 (ipykernel)",
   "language": "python",
   "name": "python3"
  },
  "language_info": {
   "codemirror_mode": {
    "name": "ipython",
    "version": 3
   },
   "file_extension": ".py",
   "mimetype": "text/x-python",
   "name": "python",
   "nbconvert_exporter": "python",
   "pygments_lexer": "ipython3",
   "version": "3.11.4"
  }
 },
 "nbformat": 4,
 "nbformat_minor": 5
}
